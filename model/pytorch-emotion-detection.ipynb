{
 "metadata": {
  "kernelspec": {
   "language": "python",
   "display_name": "Python 3",
   "name": "python3"
  },
  "language_info": {
   "name": "python",
   "version": "3.10.13",
   "mimetype": "text/x-python",
   "codemirror_mode": {
    "name": "ipython",
    "version": 3
   },
   "pygments_lexer": "ipython3",
   "nbconvert_exporter": "python",
   "file_extension": ".py"
  },
  "kaggle": {
   "accelerator": "nvidiaTeslaT4",
   "dataSources": [
    {
     "sourceId": 1351797,
     "sourceType": "datasetVersion",
     "datasetId": 786787
    }
   ],
   "dockerImageVersionId": 30699,
   "isInternetEnabled": true,
   "language": "python",
   "sourceType": "notebook",
   "isGpuEnabled": true
  }
 },
 "nbformat_minor": 4,
 "nbformat": 4,
 "cells": [
  {
   "cell_type": "code",
   "source": "import os\nimport random\nimport numpy as np\nimport pandas as pd\nfrom tqdm import tqdm\nimport torch\nimport torch.nn as nn\nimport torch.nn.functional as F\nfrom torch.utils.data import random_split\nfrom torch.utils.data import DataLoader, Dataset, Subset\nfrom torch.utils.data import random_split, SubsetRandomSampler\nfrom torchvision import datasets, transforms, models \nfrom torchvision.datasets import ImageFolder\nfrom torchvision.transforms import ToTensor\nfrom torchvision.utils import make_grid\nfrom pytorch_lightning import LightningModule\nfrom pytorch_lightning import Trainer\nimport pytorch_lightning as pl\nimport matplotlib.pyplot as plt\n%matplotlib inline\nfrom sklearn.model_selection import train_test_split\nfrom sklearn.metrics import classification_report\nfrom PIL import Image",
   "metadata": {
    "_uuid": "8f2839f25d086af736a60e9eeb907d3b93b6e0e5",
    "_cell_guid": "b1076dfc-b9ad-4769-8c92-a6c4dae69d19",
    "execution": {
     "iopub.status.busy": "2024-05-19T08:32:25.229421Z",
     "iopub.execute_input": "2024-05-19T08:32:25.230364Z",
     "iopub.status.idle": "2024-05-19T08:32:34.211765Z",
     "shell.execute_reply.started": "2024-05-19T08:32:25.230324Z",
     "shell.execute_reply": "2024-05-19T08:32:34.210924Z"
    },
    "trusted": true
   },
   "execution_count": 1,
   "outputs": []
  },
  {
   "cell_type": "code",
   "source": "dir0='/kaggle/input/fer2013'",
   "metadata": {
    "execution": {
     "iopub.status.busy": "2024-05-19T08:35:43.149507Z",
     "iopub.execute_input": "2024-05-19T08:35:43.150160Z",
     "iopub.status.idle": "2024-05-19T08:35:43.154633Z",
     "shell.execute_reply.started": "2024-05-19T08:35:43.150130Z",
     "shell.execute_reply": "2024-05-19T08:35:43.153634Z"
    },
    "trusted": true
   },
   "execution_count": 3,
   "outputs": []
  },
  {
   "cell_type": "code",
   "source": "classes=[]\npaths=[]\nfor dirname, _, filenames in os.walk(dir0):\n    for filename in filenames:\n        if filename.endswith('.png') or filename.endswith('.jpg') :\n            classes+=[dirname.split('/')[-1]]\n            paths+=[(os.path.join(dirname, filename))]\nprint(len(paths))",
   "metadata": {
    "execution": {
     "iopub.status.busy": "2024-05-19T08:35:45.389870Z",
     "iopub.execute_input": "2024-05-19T08:35:45.390273Z",
     "iopub.status.idle": "2024-05-19T08:36:32.108373Z",
     "shell.execute_reply.started": "2024-05-19T08:35:45.390244Z",
     "shell.execute_reply": "2024-05-19T08:36:32.107494Z"
    },
    "trusted": true
   },
   "execution_count": 4,
   "outputs": []
  },
  {
   "cell_type": "code",
   "source": "N=list(range(len(classes)))\nclass_names=sorted(set(classes))\nprint(class_names)\nnormal_mapping=dict(zip(class_names,N)) \nreverse_mapping=dict(zip(N,class_names))       \n\ndata=pd.DataFrame(columns=['path','class','label'])\ndata['path']=paths\ndata['class']=classes\ndata['label']=data['class'].map(normal_mapping)\nm=len(data)\nM=list(range(m))\nrandom.shuffle(M)\ndata=data.iloc[M]",
   "metadata": {
    "execution": {
     "iopub.status.busy": "2024-05-19T08:36:53.176582Z",
     "iopub.execute_input": "2024-05-19T08:36:53.177302Z",
     "iopub.status.idle": "2024-05-19T08:36:53.251646Z",
     "shell.execute_reply.started": "2024-05-19T08:36:53.177273Z",
     "shell.execute_reply": "2024-05-19T08:36:53.250644Z"
    },
    "trusted": true
   },
   "execution_count": 5,
   "outputs": []
  },
  {
   "cell_type": "code",
   "source": "transform=transforms.Compose([\n        transforms.RandomRotation(10),      # rotate +/- 10 degrees\n        transforms.RandomHorizontalFlip(),  # reverse 50% of images\n        transforms.Resize(224),             # resize shortest side to 224 pixels\n        transforms.CenterCrop(224),         # crop longest side to 224 pixels at center\n        transforms.ToTensor(),\n        transforms.Normalize([0.485, 0.456, 0.406],\n                             [0.229, 0.224, 0.225])\n])",
   "metadata": {
    "execution": {
     "iopub.status.busy": "2024-05-19T08:37:11.629445Z",
     "iopub.execute_input": "2024-05-19T08:37:11.630260Z",
     "iopub.status.idle": "2024-05-19T08:37:11.635539Z",
     "shell.execute_reply.started": "2024-05-19T08:37:11.630231Z",
     "shell.execute_reply": "2024-05-19T08:37:11.634718Z"
    },
    "trusted": true
   },
   "execution_count": 6,
   "outputs": []
  },
  {
   "cell_type": "code",
   "source": "def create_path_label_list(df):\n    path_label_list = []\n    for _, row in df.iterrows():\n        path = row['path']\n        label = row['label']\n        path_label_list.append((path, label))\n    return path_label_list\n\npath_label = create_path_label_list(data)\npath_label = random.sample(path_label,len(path_label))\nprint(len(path_label))\nprint(path_label[0:3])",
   "metadata": {
    "execution": {
     "iopub.status.busy": "2024-05-19T08:37:30.247919Z",
     "iopub.execute_input": "2024-05-19T08:37:30.248629Z",
     "iopub.status.idle": "2024-05-19T08:37:32.337758Z",
     "shell.execute_reply.started": "2024-05-19T08:37:30.248595Z",
     "shell.execute_reply": "2024-05-19T08:37:32.336846Z"
    },
    "trusted": true
   },
   "execution_count": 7,
   "outputs": []
  },
  {
   "cell_type": "code",
   "source": "class CustomDataset(torch.utils.data.Dataset):\n    def __init__(self, path_label, transform=None):\n        self.path_label = path_label\n        self.transform = transform\n\n    def __len__(self):\n        return len(self.path_label)\n\n    def __getitem__(self, idx):\n        path, label = self.path_label[idx]\n        img = Image.open(path).convert('RGB')\n\n        if self.transform is not None:\n            img = self.transform(img)\n\n        return img, label",
   "metadata": {
    "execution": {
     "iopub.status.busy": "2024-05-19T08:37:58.948723Z",
     "iopub.execute_input": "2024-05-19T08:37:58.949080Z",
     "iopub.status.idle": "2024-05-19T08:37:58.957461Z",
     "shell.execute_reply.started": "2024-05-19T08:37:58.949051Z",
     "shell.execute_reply": "2024-05-19T08:37:58.956438Z"
    },
    "trusted": true
   },
   "execution_count": 8,
   "outputs": []
  },
  {
   "cell_type": "code",
   "source": "class ImageDataset(pl.LightningDataModule):\n    def __init__(self, path_label, batch_size=32):\n        super().__init__()\n        self.path_label = path_label\n        self.batch_size = batch_size\n        self.transform = transforms.Compose([\n            transforms.Resize(224),             # resize shortest side to 224 pixels\n            transforms.CenterCrop(224),         # crop longest side to 224 pixels at center            \n            transforms.ToTensor(),\n            transforms.Normalize([0.485, 0.456, 0.406],\n                                 [0.229, 0.224, 0.225])\n        ])\n\n    def setup(self, stage=None):\n        dataset = CustomDataset(self.path_label, self.transform)\n        dataset_size = len(dataset)\n        train_size = int(0.6 * dataset_size) \n        val_size = dataset_size - train_size\n        print(train_size,val_size)\n\n        self.train_dataset = torch.utils.data.Subset(dataset, range(train_size))\n        self.val_dataset = torch.utils.data.Subset(dataset, range(train_size, dataset_size))\n\n    def __len__(self):\n        if self.train_dataset is not None:\n            return len(self.train_dataset)\n        elif self.val_dataset is not None:\n            return len(self.val_dataset)\n        else:\n            return 0        \n\n    def __getitem__(self, index):\n        if self.train_dataset is not None:\n            return self.train_dataset[index]\n        elif self.test_dataset is not None:\n            return self.test_dataset[index]\n        else:\n            raise IndexError(\"Index out of range. The dataset is empty.\")\n\n    def train_dataset(self):\n        return DataLoader(self.train_dataset, batch_size=self.batch_size, shuffle=True)\n\n\n    def val_dataset(self):\n        return DataLoader(self.val_dataset, batch_size=self.batch_size)",
   "metadata": {
    "execution": {
     "iopub.status.busy": "2024-05-19T08:38:28.200822Z",
     "iopub.execute_input": "2024-05-19T08:38:28.201180Z",
     "iopub.status.idle": "2024-05-19T08:38:28.212602Z",
     "shell.execute_reply.started": "2024-05-19T08:38:28.201150Z",
     "shell.execute_reply": "2024-05-19T08:38:28.211588Z"
    },
    "trusted": true
   },
   "execution_count": 9,
   "outputs": []
  },
  {
   "cell_type": "code",
   "source": "class DataModule(pl.LightningDataModule):\n    \n    def __init__(self, transform=transform, batch_size=16):\n        super().__init__()\n        self.root_dir = dir0\n        self.transform = transform\n        self.batch_size = batch_size\n\n    def setup(self, stage=None):\n        data_set = datasets.ImageFolder(root=self.root_dir, transform=self.transform)\n        \n        n_data = len(dataset)\n        n_train = int(0.6 * n_data)\n        n_val = n_data - n_train\n        train_dataset, val_dataset =  random_split(dataset, [n_train, n_val])\n\n        self.train_dataset = DataLoader(train_dataset, batch_size=self.batch_size, shuffle=True)\n        self.val_dataset = DataLoader(val_dataset, batch_size=self.batch_size)\n    \n    def train_dataloader(self):\n        return self.train_dataset\n\n    def val_dataloader(self):\n        return self.val_dataset\n    \n    def test_dataloader(self):\n        return self.test_dataset",
   "metadata": {
    "execution": {
     "iopub.status.busy": "2024-05-19T08:39:10.938784Z",
     "iopub.execute_input": "2024-05-19T08:39:10.939612Z",
     "iopub.status.idle": "2024-05-19T08:39:10.949702Z",
     "shell.execute_reply.started": "2024-05-19T08:39:10.939574Z",
     "shell.execute_reply": "2024-05-19T08:39:10.948466Z"
    },
    "trusted": true
   },
   "execution_count": 10,
   "outputs": []
  },
  {
   "cell_type": "code",
   "source": "device = torch.device(\"cuda\" if torch.cuda.is_available() else \"cpu\")\nprint(f\"Using device: {device}\")",
   "metadata": {
    "execution": {
     "iopub.status.busy": "2024-05-19T09:00:08.848202Z",
     "iopub.execute_input": "2024-05-19T09:00:08.848575Z",
     "iopub.status.idle": "2024-05-19T09:00:08.853936Z",
     "shell.execute_reply.started": "2024-05-19T09:00:08.848545Z",
     "shell.execute_reply": "2024-05-19T09:00:08.852965Z"
    },
    "trusted": true
   },
   "execution_count": 15,
   "outputs": []
  },
  {
   "cell_type": "code",
   "source": "class ConvolutionalNetwork(LightningModule):\n    \n    def __init__(self):\n        super(ConvolutionalNetwork, self).__init__()\n        self.conv1 = nn.Conv2d(3, 6, 3, 1)\n        self.conv2 = nn.Conv2d(6, 16, 3, 1)\n        self.fc1 = nn.Linear(16 * 54 * 54, 120)\n        self.fc2 = nn.Linear(120, 84)\n        self.fc3 = nn.Linear(84, 20)\n        self.fc4 = nn.Linear(20, len(class_names))\n\n    def forward(self, X):\n        X = F.relu(self.conv1(X))\n        X = F.max_pool2d(X, 2, 2)\n        X = F.relu(self.conv2(X))\n        X = F.max_pool2d(X, 2, 2)\n        X = X.view(-1, 16 * 54 * 54)\n        X = F.relu(self.fc1(X))\n        X = F.relu(self.fc2(X))\n        X = F.relu(self.fc3(X))\n        X = self.fc4(X)\n        return F.log_softmax(X, dim=1)\n\n    def configure_optimizers(self):\n        optimizer = torch.optim.Adam(self.parameters(), lr=0.001)\n        return optimizer\n\n    def training_step(self, train_batch, batch_idx):\n        X, y = train_batch\n        y_hat = self(X)\n        loss = F.cross_entropy(y_hat, y)\n        pred = y_hat.argmax(dim=1, keepdim=True)\n        acc = pred.eq(y.view_as(pred)).sum().item() / y.shape[0]\n        self.log(\"train_loss\", loss)\n        self.log(\"train_acc\", acc)\n        return loss\n\n    def validation_step(self, val_batch, batch_idx):\n        X, y = val_batch\n        y_hat = self(X)\n        loss = F.cross_entropy(y_hat, y)\n        pred = y_hat.argmax(dim=1, keepdim=True)\n        acc = pred.eq(y.view_as(pred)).sum().item() / y.shape[0]\n        self.log(\"val_loss\", loss)\n        self.log(\"val_acc\", acc)\n\n    def test_step(self, test_batch, batch_idx):\n        X, y = test_batch\n        y_hat = self(X)\n        loss = F.cross_entropy(y_hat, y)\n        pred = y_hat.argmax(dim=1, keepdim=True)\n        acc = pred.eq(y.view_as(pred)).sum().item() / y.shape[0]\n        self.log(\"test_loss\", loss)\n        self.log(\"test_acc\", acc)",
   "metadata": {
    "execution": {
     "iopub.status.busy": "2024-05-19T09:00:09.352266Z",
     "iopub.execute_input": "2024-05-19T09:00:09.352848Z",
     "iopub.status.idle": "2024-05-19T09:00:09.367456Z",
     "shell.execute_reply.started": "2024-05-19T09:00:09.352822Z",
     "shell.execute_reply": "2024-05-19T09:00:09.366552Z"
    },
    "trusted": true
   },
   "execution_count": 16,
   "outputs": []
  },
  {
   "cell_type": "code",
   "source": "dataset = ImageDataset(path_label)\ndataset.setup() \ntrain_dataloader = dataset.train_dataloader\nval_dataloader = dataset.val_dataloader\n#test_dataloader = dataset.test_dataloader\ndatamodule = DataModule()\nmodel = ConvolutionalNetwork().to(device)",
   "metadata": {
    "execution": {
     "iopub.status.busy": "2024-05-19T09:02:55.860711Z",
     "iopub.execute_input": "2024-05-19T09:02:55.861422Z",
     "iopub.status.idle": "2024-05-19T09:02:55.918356Z",
     "shell.execute_reply.started": "2024-05-19T09:02:55.861374Z",
     "shell.execute_reply": "2024-05-19T09:02:55.917461Z"
    },
    "trusted": true
   },
   "execution_count": 21,
   "outputs": []
  },
  {
   "cell_type": "code",
   "source": "trainer = pl.Trainer(max_epochs=50)\ntrainer.fit(model, datamodule)\nval_loader = datamodule.val_dataloader()\ntrainer.test(dataloaders=val_loader)",
   "metadata": {
    "execution": {
     "iopub.status.busy": "2024-05-19T09:04:24.208503Z",
     "iopub.execute_input": "2024-05-19T09:04:24.209191Z",
     "iopub.status.idle": "2024-05-19T09:56:29.844139Z",
     "shell.execute_reply.started": "2024-05-19T09:04:24.209163Z",
     "shell.execute_reply": "2024-05-19T09:56:29.843282Z"
    },
    "trusted": true
   },
   "execution_count": 23,
   "outputs": []
  },
  {
   "cell_type": "code",
   "source": "for images, labels in datamodule.val_dataloader():\n    break\nim=make_grid(images,nrow=8)\n\nplt.figure(figsize=(12,12))\nplt.imshow(np.transpose(im.numpy(),(1,2,0)))\n\ninv_normalize=transforms.Normalize(mean=[-0.485/0.229,-0.456/0.224,-0.406/0.225],\n                                   std=[1/0.229,1/0.224,1/0.225])\nim=inv_normalize(im)\n\nplt.figure(figsize=(12,12))\nplt.imshow(np.transpose(im.numpy(),(1,2,0)))",
   "metadata": {
    "execution": {
     "iopub.status.busy": "2024-05-19T09:57:12.115762Z",
     "iopub.execute_input": "2024-05-19T09:57:12.116356Z",
     "iopub.status.idle": "2024-05-19T09:57:13.197143Z",
     "shell.execute_reply.started": "2024-05-19T09:57:12.116325Z",
     "shell.execute_reply": "2024-05-19T09:57:13.196214Z"
    },
    "trusted": true
   },
   "execution_count": 24,
   "outputs": []
  },
  {
   "cell_type": "code",
   "source": "device = torch.device(\"cpu\")\n\nmodel.eval()\ny_true=[]\ny_pred=[]\nwith torch.no_grad():\n    for test_data in datamodule.val_dataloader():\n        test_images, test_labels = test_data[0].to(device), test_data[1].to(device)\n        pred = model(test_images).argmax(dim=1)\n        for i in range(len(pred)):\n            y_true.append(test_labels[i].item())\n            y_pred.append(pred[i].item())\n\nprint(classification_report(y_true,y_pred,target_names=class_names,digits=4))",
   "metadata": {
    "execution": {
     "iopub.status.busy": "2024-05-19T09:58:12.032176Z",
     "iopub.execute_input": "2024-05-19T09:58:12.032559Z",
     "iopub.status.idle": "2024-05-19T09:59:10.008668Z",
     "shell.execute_reply.started": "2024-05-19T09:58:12.032531Z",
     "shell.execute_reply": "2024-05-19T09:59:10.007692Z"
    },
    "trusted": true
   },
   "execution_count": 26,
   "outputs": []
  },
  {
   "cell_type": "code",
   "source": "torch.save(model.state_dict(), \"cnnmodel.pth\")",
   "metadata": {
    "execution": {
     "iopub.status.busy": "2024-05-19T10:31:27.734433Z",
     "iopub.execute_input": "2024-05-19T10:31:27.735381Z",
     "iopub.status.idle": "2024-05-19T10:31:27.771266Z",
     "shell.execute_reply.started": "2024-05-19T10:31:27.735328Z",
     "shell.execute_reply": "2024-05-19T10:31:27.770236Z"
    },
    "trusted": true
   },
   "execution_count": 40,
   "outputs": []
  },
  {
   "cell_type": "code",
   "source": "",
   "metadata": {},
   "execution_count": null,
   "outputs": []
  }
 ]
}
